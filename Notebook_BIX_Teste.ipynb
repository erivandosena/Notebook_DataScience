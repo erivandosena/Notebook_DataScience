{
  "nbformat": 4,
  "nbformat_minor": 0,
  "metadata": {
    "colab": {
      "name": "Notebook-BIX-Teste.ipynb",
      "provenance": [],
      "collapsed_sections": [],
      "authorship_tag": "ABX9TyPrP+/dqPtlhav3wWOPVEdb",
      "include_colab_link": true
    },
    "kernelspec": {
      "name": "python3",
      "display_name": "Python 3"
    },
    "language_info": {
      "name": "python"
    }
  },
  "cells": [
    {
      "cell_type": "markdown",
      "metadata": {
        "id": "view-in-github",
        "colab_type": "text"
      },
      "source": [
        "<a href=\"https://colab.research.google.com/github/erivandosena/Notebook_DataScience/blob/main/Notebook_BIX_Teste.ipynb\" target=\"_parent\"><img src=\"https://colab.research.google.com/assets/colab-badge.svg\" alt=\"Open In Colab\"/></a>"
      ]
    },
    {
      "cell_type": "markdown",
      "source": [
        "# Base de Dados - Questionário"
      ],
      "metadata": {
        "id": "H5D35o30X2ni"
      }
    },
    {
      "cell_type": "code",
      "source": [
        "import pandas as pd\n",
        "import matplotlib.pyplot as plt\n",
        "\n",
        "xlsx_link_file = 'https://docs.google.com/spreadsheets/d/1Sc6hN48b-lWbDdYNd_t9j8Bt0EZ8BUNG/export'\n",
        "\n",
        "df_sheet_1 = pd.read_excel(xlsx_link_file, 'Sheet1', skiprows=4, usecols=lambda x: 'Unnamed' not in x)\n",
        "df_sheet_2 = pd.read_excel(xlsx_link_file, 'Sheet2', skiprows=0, usecols=lambda x: 'Unnamed' not in x)\n",
        "df_sheet_3 = pd.read_excel(xlsx_link_file, 'Sheet3', skiprows=0, usecols=lambda x: 'Unnamed' not in x)\n",
        "df_sheet_4 = pd.read_excel(xlsx_link_file, 'Sheet4', skiprows=0, usecols=lambda x: 'Unnamed' not in x)"
      ],
      "metadata": {
        "id": "wBzQ0IFQMM8d"
      },
      "execution_count": 1,
      "outputs": []
    },
    {
      "cell_type": "code",
      "source": [
        "print(\"Dados de venda\\n\", df_sheet_1, \"\\n\\nDados Missing\\n\", df_sheet_1.isna().sum(), \"\\n\\nTipos de dados\\n\", df_sheet_1.dtypes)\n",
        "\n",
        "print(\"\\nDados de produto\\n\", df_sheet_2, \"\\n\\nDados Missing\\n\", df_sheet_2.isna().sum(), \"\\n\\nTipos de dados\\n\", df_sheet_2.dtypes)\n",
        "\n",
        "print(\"\\nDados de consumidores\\n\", df_sheet_3, \"\\n\\nDados Missing\\n\", df_sheet_3.isna().sum(), \"\\n\\nTipos de dados\\n\", df_sheet_3.dtypes)\n",
        "\n",
        "print(\"\\nDados de lojas\\n\", df_sheet_4, \"\\n\\nDados Missing\\n\", df_sheet_4.isna().sum(), \"\\n\\nTipos de dados\\n\", df_sheet_4.dtypes)"
      ],
      "metadata": {
        "colab": {
          "base_uri": "https://localhost:8080/"
        },
        "id": "I9UbNYWwJhNw",
        "outputId": "5b23cc9f-f44e-48d3-ec33-d5da8bc84301"
      },
      "execution_count": 2,
      "outputs": [
        {
          "output_type": "stream",
          "name": "stdout",
          "text": [
            "Dados de venda\n",
            "                                      ID                          ProductID  \\\n",
            "0      80260d682079b6090c8285b398c50d97  002552c0663708129c0019cc97552d7d3   \n",
            "1      3275736da1234f55d52bdf09d86b93bc  001b237c0e9bb435f2e54071129237e93   \n",
            "2      f3513eec8f1434b5b7e04ddf3598df40  00066f42aeeb9f3007548bb9d3f33c381   \n",
            "3      7180475b60fe6bbbde424d39704a1177  001b72dfd63e9833e8c02742adf472e33   \n",
            "4      76600853a200fe87e141adae6b35674c  00210e41887c2a8ef9f791ebc780cc363   \n",
            "...                                 ...                                ...   \n",
            "32748  b155e2a8589d40bc9c0381ee48e3204f  002ec297b1b00fb9dde7ee6ac24b67712   \n",
            "32749  abb71d0110c4be1a1a0c52f929cab4a3  002d4ea7c04739c130bb74d7e7cd16943   \n",
            "32750  db9a034f34174edd577b9f64cc982952  001795ec6f1b187d37335e1c4704762e3   \n",
            "32751  ee00fa5093eb96d8573403b382fb60a8  002ec297b1b00fb9dde7ee6ac24b67713   \n",
            "32752  56c87d433bb46c7862e35e791b1907fa  0009406fd7479715e4bef61dd91f24622   \n",
            "\n",
            "       ClientID  Discount  UnitPrice  Quantity  StoreID       Date  \n",
            "0       14001.0      0.08      249.2       1.0      4.0 2018-12-10  \n",
            "1       14001.0      0.10      162.4       1.0      4.0 2019-04-25  \n",
            "2       14001.0      0.10      194.6       1.0      4.0 2019-07-17  \n",
            "3       14002.0      0.10      201.6       2.0      1.0 2018-04-10  \n",
            "4       14002.0      0.10      406.0       1.0      1.0 2019-01-21  \n",
            "...         ...       ...        ...       ...      ...        ...  \n",
            "32748   28694.0      0.08      218.4       1.0      4.0 2018-12-02  \n",
            "32749   28694.0      0.08      210.0       1.0      4.0 2018-12-05  \n",
            "32750   28694.0      0.08      148.4       1.0      4.0 2019-08-01  \n",
            "32751   28694.0      0.10      218.4       2.0      4.0 2019-11-25  \n",
            "32752   28695.0      0.10      254.8       1.0      4.0 2018-07-04  \n",
            "\n",
            "[32753 rows x 8 columns] \n",
            "\n",
            "Dados Missing\n",
            " ID           0\n",
            "ProductID    0\n",
            "ClientID     0\n",
            "Discount     0\n",
            "UnitPrice    0\n",
            "Quantity     0\n",
            "StoreID      0\n",
            "Date         0\n",
            "dtype: int64 \n",
            "\n",
            "Tipos de dados\n",
            " ID                   object\n",
            "ProductID            object\n",
            "ClientID            float64\n",
            "Discount            float64\n",
            "UnitPrice           float64\n",
            "Quantity            float64\n",
            "StoreID             float64\n",
            "Date         datetime64[ns]\n",
            "dtype: object\n",
            "\n",
            "Dados de produto\n",
            "                                    ID             Name Size\n",
            "0   00066f42aeeb9f3007548bb9d3f33c381  Capitão América    P\n",
            "1   00066f42aeeb9f3007548bb9d3f33c382  Capitão América    M\n",
            "2   00066f42aeeb9f3007548bb9d3f33c383  Capitão América    G\n",
            "3   00088930e925c41fd95ebfe695fd26551             Thor    P\n",
            "4   00088930e925c41fd95ebfe695fd26552             Thor    M\n",
            "..                                ...              ...  ...\n",
            "68  0030e635639c898b323826589761cf233       Rick Morty    G\n",
            "69  003128f981470c3e5a2e7445e4a771cd1   Homer Simpsons    P\n",
            "70  003128f981470c3e5a2e7445e4a771cd2   Homer Simpsons    M\n",
            "71  003128f981470c3e5a2e7445e4a771cd3   Homer Simpsons    G\n",
            "72  003128f981470c3e5a2e7445e4a771cd4   Homer Simpsons   GG\n",
            "\n",
            "[73 rows x 3 columns] \n",
            "\n",
            "Dados Missing\n",
            " ID      0\n",
            "Name    0\n",
            "Size    0\n",
            "dtype: int64 \n",
            "\n",
            "Tipos de dados\n",
            " ID      object\n",
            "Name    object\n",
            "Size    object\n",
            "dtype: object\n",
            "\n",
            "Dados de consumidores\n",
            "             ID            City State DateOfBirth     Sex\n",
            "0      14001.0        Curitiba    PR  1985-06-28   Homem\n",
            "1      14002.0   Florianópolis    SC  1987-01-10   Homem\n",
            "2      14003.0  Rio de Janeiro    RJ  1979-11-05   Homem\n",
            "3      14004.0  Rio de Janeiro    RJ  1983-11-25  Mulher\n",
            "4      14005.0   Florianópolis    SC  1969-04-07   Homem\n",
            "...        ...             ...   ...         ...     ...\n",
            "13645  28689.0  Belo Horizonte    MG  1999-01-15   Homem\n",
            "13646  28691.0  Belo Horizonte    BH  1956-02-07   Homem\n",
            "13647  28692.0    Porto Alegre    RS  1985-10-19   Homem\n",
            "13648  28694.0        Curitiba    PR  1982-10-22   Homem\n",
            "13649  28695.0        Curitiba    PR  1961-10-24   Homem\n",
            "\n",
            "[13650 rows x 5 columns] \n",
            "\n",
            "Dados Missing\n",
            " ID             0\n",
            "City           0\n",
            "State          0\n",
            "DateOfBirth    0\n",
            "Sex            0\n",
            "dtype: int64 \n",
            "\n",
            "Tipos de dados\n",
            " ID                    float64\n",
            "City                   object\n",
            "State                  object\n",
            "DateOfBirth    datetime64[ns]\n",
            "Sex                    object\n",
            "dtype: object\n",
            "\n",
            "Dados de lojas\n",
            "      ID            Name State\n",
            "0   1.0   Florianópolis    SC\n",
            "1   2.0  Rio de Janeiro    RJ\n",
            "2   3.0    Porto Alegre    RS\n",
            "3   4.0        Curitiba    PR\n",
            "4   7.0       São Paulo    SP\n",
            "5   9.0  Belo Horizonte    MG\n",
            "6  22.0          Online    na \n",
            "\n",
            "Dados Missing\n",
            " ID       0\n",
            "Name     0\n",
            "State    0\n",
            "dtype: int64 \n",
            "\n",
            "Tipos de dados\n",
            " ID       float64\n",
            "Name      object\n",
            "State     object\n",
            "dtype: object\n"
          ]
        }
      ]
    },
    {
      "cell_type": "markdown",
      "source": [
        "### CONHECIMENTOS TÉCNICOS - CIENTISTA DE DADOS\n",
        "\n",
        "O que está sendo avaliado:\n",
        "- Conceitos de Data Science (DS) e Machine Learning (ML);\n",
        "- Manipulação de dados;\n",
        "- Estatística básica;\n",
        "- Criação e avaliação de gráficos;\n",
        "- Entendimento de negócio."
      ],
      "metadata": {
        "id": "NLpEEhAOYAKJ"
      }
    },
    {
      "cell_type": "markdown",
      "source": [
        "**1. Qual das respostas abaixo descreve a melhor maneira de organizar as etapas em um projeto com estes dados?**  \n",
        "Validar dados com área de negócio, Análise Exploratória de Dados (EDA), Separação do conjunto de dados, pré processamento e transformações, Modelo inicial (baseline), validação preliminar área de negócio, Tunagem do modelo, construção do pipeline, subir modelo para produção."
      ],
      "metadata": {
        "id": "bkuDxECjZvPw"
      }
    },
    {
      "cell_type": "markdown",
      "source": [
        "**2. Com base nos dados da planilha anexada, qual tipo de modelo você escolheria para prever o valor total que será vendido por uma loja no próximo mês?**  \n"
      ],
      "metadata": {
        "id": "TWHZPGGmaHDD"
      }
    },
    {
      "cell_type": "code",
      "source": [
        ""
      ],
      "metadata": {
        "id": "IQuiFwQDEv1n"
      },
      "execution_count": null,
      "outputs": []
    },
    {
      "cell_type": "markdown",
      "source": [
        "**3. Se dois dos produtos na base de dados tem forte correlação positiva entre seus comportamento de vendas, qual gráfico abaixo melhor representaria essa relação?**  \n"
      ],
      "metadata": {
        "id": "iWzWfZRQaWXr"
      }
    },
    {
      "cell_type": "markdown",
      "source": [
        "**4. Com base nos dados da planilha anexada, você deseja criar um algoritmo para prever a probabilidade de um cliente comprar um produto. Como você faria a divisão dos dados nas etapas de treinamento?**  \n",
        "*Nota: Por validação entende-se o conjunto usado para ajustar hiper-parâmetros, e por teste entende-se o conjunto de dados não visto em treino nem em validação.*\n"
      ],
      "metadata": {
        "id": "sGYNDZLfaZ6n"
      }
    },
    {
      "cell_type": "code",
      "source": [
        ""
      ],
      "metadata": {
        "id": "jnEuwxwLEzfm"
      },
      "execution_count": null,
      "outputs": []
    },
    {
      "cell_type": "markdown",
      "source": [
        "**5. Quantos produtos únicos foram vendidos?**  \n"
      ],
      "metadata": {
        "id": "51zA40tza7eU"
      }
    },
    {
      "cell_type": "code",
      "source": [
        "df_result = df_sheet_1.groupby([\"ProductID\"])[\"Quantity\"].count().to_frame()\n",
        "df_result.count()"
      ],
      "metadata": {
        "colab": {
          "base_uri": "https://localhost:8080/"
        },
        "id": "drweQuXx6zbt",
        "outputId": "e7ddce28-4533-4b91-f71f-51cf871a06f1"
      },
      "execution_count": 3,
      "outputs": [
        {
          "output_type": "execute_result",
          "data": {
            "text/plain": [
              "Quantity    73\n",
              "dtype: int64"
            ]
          },
          "metadata": {},
          "execution_count": 3
        }
      ]
    },
    {
      "cell_type": "markdown",
      "source": [
        "**6. Qual o produto mais vendido e quantos desse produto foram vendidos?**  \n"
      ],
      "metadata": {
        "id": "R0pC2jz8bChV"
      }
    },
    {
      "cell_type": "code",
      "source": [
        "df_merge_prod = df_sheet_1.merge(df_sheet_2, left_on='ProductID', right_on='ID')\n",
        "df_return = df_merge_prod.groupby([\"ProductID\",\"Name\",\"Size\"])[\"Quantity\"].sum().sort_values(ascending=False).to_frame()\n",
        "df_return.loc[df_return['Quantity'].idxmax()]"
      ],
      "metadata": {
        "colab": {
          "base_uri": "https://localhost:8080/"
        },
        "id": "-8nONsX08pTS",
        "outputId": "22cfc198-1a78-4681-c28c-6a360c9a51a0"
      },
      "execution_count": 4,
      "outputs": [
        {
          "output_type": "execute_result",
          "data": {
            "text/plain": [
              "Quantity    1020.0\n",
              "Name: (002ec297b1b00fb9dde7ee6ac24b67713, Bazinga, G), dtype: float64"
            ]
          },
          "metadata": {},
          "execution_count": 4
        }
      ]
    },
    {
      "cell_type": "markdown",
      "source": [
        "**7. Considerando o ano de 2019, qual gráfico abaixo mais se parece à quantidade mensal do vendida do produto \"Iron Man, G\" ?**  \n"
      ],
      "metadata": {
        "id": "svndCW_UbHTX"
      }
    },
    {
      "cell_type": "code",
      "source": [
        "df_merge_plot = df_merge_prod.drop([\"ID_x\", \"ID_y\"], axis=1)\n",
        "\n",
        "df_merge_plot[\"Year\"] = pd.DatetimeIndex(df_merge_plot[\"Date\"]).year\n",
        "df_merge_plot[\"Month\"] = pd.DatetimeIndex(df_merge_plot[\"Date\"]).month  \n",
        "\n",
        "df_merge_plot = df_merge_plot[df_merge_plot.Year.eq(2019)]\n",
        "df_merge_plot = df_merge_plot[df_merge_plot.Name.eq(\"Iron Man\")]\n",
        "df_merge_plot = df_merge_plot[df_merge_plot.Size.eq(\"G\")]\n",
        "\n",
        "display(df_merge_plot)\n",
        "\n",
        "sales_month_2019 = df_merge_plot.groupby('Month').size()\n",
        "print(sales_month_2019)\n",
        "\n",
        "plot_month = sales_month_2019.plot(title=\"Quantidade mensal vendas produto Iron Man, G em 2019\")\n",
        "plot_month.set_xlabel('Mês')\n",
        "plot_month.set_ylabel('Total Vendas')\n",
        "plot_month.grid()"
      ],
      "metadata": {
        "colab": {
          "base_uri": "https://localhost:8080/",
          "height": 945
        },
        "id": "3Kv3De6LP1DN",
        "outputId": "9077a16b-da50-48a2-ffe2-50181584d462"
      },
      "execution_count": 15,
      "outputs": [
        {
          "output_type": "display_data",
          "data": {
            "text/plain": [
              "                               ProductID  ClientID  Discount  UnitPrice  \\\n",
              "17428  002d4ea7c04739c130bb74d7e7cd16943   14074.0      0.08      210.0   \n",
              "17429  002d4ea7c04739c130bb74d7e7cd16943   14080.0      0.10      210.0   \n",
              "17431  002d4ea7c04739c130bb74d7e7cd16943   14088.0      0.10      210.0   \n",
              "17433  002d4ea7c04739c130bb74d7e7cd16943   14127.0      0.10      210.0   \n",
              "17438  002d4ea7c04739c130bb74d7e7cd16943   14197.0      0.10      210.0   \n",
              "...                                  ...       ...       ...        ...   \n",
              "18381  002d4ea7c04739c130bb74d7e7cd16943   28581.0      0.10      210.0   \n",
              "18382  002d4ea7c04739c130bb74d7e7cd16943   28627.0      0.10      210.0   \n",
              "18383  002d4ea7c04739c130bb74d7e7cd16943   28641.0      0.08      210.0   \n",
              "18384  002d4ea7c04739c130bb74d7e7cd16943   28664.0      0.10      210.0   \n",
              "18386  002d4ea7c04739c130bb74d7e7cd16943   28689.0      0.10      210.0   \n",
              "\n",
              "       Quantity  StoreID       Date      Name Size  Year  Month  \n",
              "17428       1.0      2.0 2019-06-28  Iron Man    G  2019      6  \n",
              "17429       1.0      1.0 2019-09-03  Iron Man    G  2019      9  \n",
              "17431       1.0      1.0 2019-05-06  Iron Man    G  2019      5  \n",
              "17433       1.0     22.0 2019-09-04  Iron Man    G  2019      9  \n",
              "17438       1.0      1.0 2019-10-26  Iron Man    G  2019     10  \n",
              "...         ...      ...        ...       ...  ...   ...    ...  \n",
              "18381       1.0      4.0 2019-03-06  Iron Man    G  2019      3  \n",
              "18382       1.0      1.0 2019-11-04  Iron Man    G  2019     11  \n",
              "18383       1.0      4.0 2019-08-07  Iron Man    G  2019      8  \n",
              "18384       1.0      3.0 2019-03-23  Iron Man    G  2019      3  \n",
              "18386       1.0      9.0 2019-11-23  Iron Man    G  2019     11  \n",
              "\n",
              "[419 rows x 11 columns]"
            ],
            "text/html": [
              "\n",
              "  <div id=\"df-adc3c2b4-b852-4b4b-ac01-a81ceb91c920\">\n",
              "    <div class=\"colab-df-container\">\n",
              "      <div>\n",
              "<style scoped>\n",
              "    .dataframe tbody tr th:only-of-type {\n",
              "        vertical-align: middle;\n",
              "    }\n",
              "\n",
              "    .dataframe tbody tr th {\n",
              "        vertical-align: top;\n",
              "    }\n",
              "\n",
              "    .dataframe thead th {\n",
              "        text-align: right;\n",
              "    }\n",
              "</style>\n",
              "<table border=\"1\" class=\"dataframe\">\n",
              "  <thead>\n",
              "    <tr style=\"text-align: right;\">\n",
              "      <th></th>\n",
              "      <th>ProductID</th>\n",
              "      <th>ClientID</th>\n",
              "      <th>Discount</th>\n",
              "      <th>UnitPrice</th>\n",
              "      <th>Quantity</th>\n",
              "      <th>StoreID</th>\n",
              "      <th>Date</th>\n",
              "      <th>Name</th>\n",
              "      <th>Size</th>\n",
              "      <th>Year</th>\n",
              "      <th>Month</th>\n",
              "    </tr>\n",
              "  </thead>\n",
              "  <tbody>\n",
              "    <tr>\n",
              "      <th>17428</th>\n",
              "      <td>002d4ea7c04739c130bb74d7e7cd16943</td>\n",
              "      <td>14074.0</td>\n",
              "      <td>0.08</td>\n",
              "      <td>210.0</td>\n",
              "      <td>1.0</td>\n",
              "      <td>2.0</td>\n",
              "      <td>2019-06-28</td>\n",
              "      <td>Iron Man</td>\n",
              "      <td>G</td>\n",
              "      <td>2019</td>\n",
              "      <td>6</td>\n",
              "    </tr>\n",
              "    <tr>\n",
              "      <th>17429</th>\n",
              "      <td>002d4ea7c04739c130bb74d7e7cd16943</td>\n",
              "      <td>14080.0</td>\n",
              "      <td>0.10</td>\n",
              "      <td>210.0</td>\n",
              "      <td>1.0</td>\n",
              "      <td>1.0</td>\n",
              "      <td>2019-09-03</td>\n",
              "      <td>Iron Man</td>\n",
              "      <td>G</td>\n",
              "      <td>2019</td>\n",
              "      <td>9</td>\n",
              "    </tr>\n",
              "    <tr>\n",
              "      <th>17431</th>\n",
              "      <td>002d4ea7c04739c130bb74d7e7cd16943</td>\n",
              "      <td>14088.0</td>\n",
              "      <td>0.10</td>\n",
              "      <td>210.0</td>\n",
              "      <td>1.0</td>\n",
              "      <td>1.0</td>\n",
              "      <td>2019-05-06</td>\n",
              "      <td>Iron Man</td>\n",
              "      <td>G</td>\n",
              "      <td>2019</td>\n",
              "      <td>5</td>\n",
              "    </tr>\n",
              "    <tr>\n",
              "      <th>17433</th>\n",
              "      <td>002d4ea7c04739c130bb74d7e7cd16943</td>\n",
              "      <td>14127.0</td>\n",
              "      <td>0.10</td>\n",
              "      <td>210.0</td>\n",
              "      <td>1.0</td>\n",
              "      <td>22.0</td>\n",
              "      <td>2019-09-04</td>\n",
              "      <td>Iron Man</td>\n",
              "      <td>G</td>\n",
              "      <td>2019</td>\n",
              "      <td>9</td>\n",
              "    </tr>\n",
              "    <tr>\n",
              "      <th>17438</th>\n",
              "      <td>002d4ea7c04739c130bb74d7e7cd16943</td>\n",
              "      <td>14197.0</td>\n",
              "      <td>0.10</td>\n",
              "      <td>210.0</td>\n",
              "      <td>1.0</td>\n",
              "      <td>1.0</td>\n",
              "      <td>2019-10-26</td>\n",
              "      <td>Iron Man</td>\n",
              "      <td>G</td>\n",
              "      <td>2019</td>\n",
              "      <td>10</td>\n",
              "    </tr>\n",
              "    <tr>\n",
              "      <th>...</th>\n",
              "      <td>...</td>\n",
              "      <td>...</td>\n",
              "      <td>...</td>\n",
              "      <td>...</td>\n",
              "      <td>...</td>\n",
              "      <td>...</td>\n",
              "      <td>...</td>\n",
              "      <td>...</td>\n",
              "      <td>...</td>\n",
              "      <td>...</td>\n",
              "      <td>...</td>\n",
              "    </tr>\n",
              "    <tr>\n",
              "      <th>18381</th>\n",
              "      <td>002d4ea7c04739c130bb74d7e7cd16943</td>\n",
              "      <td>28581.0</td>\n",
              "      <td>0.10</td>\n",
              "      <td>210.0</td>\n",
              "      <td>1.0</td>\n",
              "      <td>4.0</td>\n",
              "      <td>2019-03-06</td>\n",
              "      <td>Iron Man</td>\n",
              "      <td>G</td>\n",
              "      <td>2019</td>\n",
              "      <td>3</td>\n",
              "    </tr>\n",
              "    <tr>\n",
              "      <th>18382</th>\n",
              "      <td>002d4ea7c04739c130bb74d7e7cd16943</td>\n",
              "      <td>28627.0</td>\n",
              "      <td>0.10</td>\n",
              "      <td>210.0</td>\n",
              "      <td>1.0</td>\n",
              "      <td>1.0</td>\n",
              "      <td>2019-11-04</td>\n",
              "      <td>Iron Man</td>\n",
              "      <td>G</td>\n",
              "      <td>2019</td>\n",
              "      <td>11</td>\n",
              "    </tr>\n",
              "    <tr>\n",
              "      <th>18383</th>\n",
              "      <td>002d4ea7c04739c130bb74d7e7cd16943</td>\n",
              "      <td>28641.0</td>\n",
              "      <td>0.08</td>\n",
              "      <td>210.0</td>\n",
              "      <td>1.0</td>\n",
              "      <td>4.0</td>\n",
              "      <td>2019-08-07</td>\n",
              "      <td>Iron Man</td>\n",
              "      <td>G</td>\n",
              "      <td>2019</td>\n",
              "      <td>8</td>\n",
              "    </tr>\n",
              "    <tr>\n",
              "      <th>18384</th>\n",
              "      <td>002d4ea7c04739c130bb74d7e7cd16943</td>\n",
              "      <td>28664.0</td>\n",
              "      <td>0.10</td>\n",
              "      <td>210.0</td>\n",
              "      <td>1.0</td>\n",
              "      <td>3.0</td>\n",
              "      <td>2019-03-23</td>\n",
              "      <td>Iron Man</td>\n",
              "      <td>G</td>\n",
              "      <td>2019</td>\n",
              "      <td>3</td>\n",
              "    </tr>\n",
              "    <tr>\n",
              "      <th>18386</th>\n",
              "      <td>002d4ea7c04739c130bb74d7e7cd16943</td>\n",
              "      <td>28689.0</td>\n",
              "      <td>0.10</td>\n",
              "      <td>210.0</td>\n",
              "      <td>1.0</td>\n",
              "      <td>9.0</td>\n",
              "      <td>2019-11-23</td>\n",
              "      <td>Iron Man</td>\n",
              "      <td>G</td>\n",
              "      <td>2019</td>\n",
              "      <td>11</td>\n",
              "    </tr>\n",
              "  </tbody>\n",
              "</table>\n",
              "<p>419 rows × 11 columns</p>\n",
              "</div>\n",
              "      <button class=\"colab-df-convert\" onclick=\"convertToInteractive('df-adc3c2b4-b852-4b4b-ac01-a81ceb91c920')\"\n",
              "              title=\"Convert this dataframe to an interactive table.\"\n",
              "              style=\"display:none;\">\n",
              "        \n",
              "  <svg xmlns=\"http://www.w3.org/2000/svg\" height=\"24px\"viewBox=\"0 0 24 24\"\n",
              "       width=\"24px\">\n",
              "    <path d=\"M0 0h24v24H0V0z\" fill=\"none\"/>\n",
              "    <path d=\"M18.56 5.44l.94 2.06.94-2.06 2.06-.94-2.06-.94-.94-2.06-.94 2.06-2.06.94zm-11 1L8.5 8.5l.94-2.06 2.06-.94-2.06-.94L8.5 2.5l-.94 2.06-2.06.94zm10 10l.94 2.06.94-2.06 2.06-.94-2.06-.94-.94-2.06-.94 2.06-2.06.94z\"/><path d=\"M17.41 7.96l-1.37-1.37c-.4-.4-.92-.59-1.43-.59-.52 0-1.04.2-1.43.59L10.3 9.45l-7.72 7.72c-.78.78-.78 2.05 0 2.83L4 21.41c.39.39.9.59 1.41.59.51 0 1.02-.2 1.41-.59l7.78-7.78 2.81-2.81c.8-.78.8-2.07 0-2.86zM5.41 20L4 18.59l7.72-7.72 1.47 1.35L5.41 20z\"/>\n",
              "  </svg>\n",
              "      </button>\n",
              "      \n",
              "  <style>\n",
              "    .colab-df-container {\n",
              "      display:flex;\n",
              "      flex-wrap:wrap;\n",
              "      gap: 12px;\n",
              "    }\n",
              "\n",
              "    .colab-df-convert {\n",
              "      background-color: #E8F0FE;\n",
              "      border: none;\n",
              "      border-radius: 50%;\n",
              "      cursor: pointer;\n",
              "      display: none;\n",
              "      fill: #1967D2;\n",
              "      height: 32px;\n",
              "      padding: 0 0 0 0;\n",
              "      width: 32px;\n",
              "    }\n",
              "\n",
              "    .colab-df-convert:hover {\n",
              "      background-color: #E2EBFA;\n",
              "      box-shadow: 0px 1px 2px rgba(60, 64, 67, 0.3), 0px 1px 3px 1px rgba(60, 64, 67, 0.15);\n",
              "      fill: #174EA6;\n",
              "    }\n",
              "\n",
              "    [theme=dark] .colab-df-convert {\n",
              "      background-color: #3B4455;\n",
              "      fill: #D2E3FC;\n",
              "    }\n",
              "\n",
              "    [theme=dark] .colab-df-convert:hover {\n",
              "      background-color: #434B5C;\n",
              "      box-shadow: 0px 1px 3px 1px rgba(0, 0, 0, 0.15);\n",
              "      filter: drop-shadow(0px 1px 2px rgba(0, 0, 0, 0.3));\n",
              "      fill: #FFFFFF;\n",
              "    }\n",
              "  </style>\n",
              "\n",
              "      <script>\n",
              "        const buttonEl =\n",
              "          document.querySelector('#df-adc3c2b4-b852-4b4b-ac01-a81ceb91c920 button.colab-df-convert');\n",
              "        buttonEl.style.display =\n",
              "          google.colab.kernel.accessAllowed ? 'block' : 'none';\n",
              "\n",
              "        async function convertToInteractive(key) {\n",
              "          const element = document.querySelector('#df-adc3c2b4-b852-4b4b-ac01-a81ceb91c920');\n",
              "          const dataTable =\n",
              "            await google.colab.kernel.invokeFunction('convertToInteractive',\n",
              "                                                     [key], {});\n",
              "          if (!dataTable) return;\n",
              "\n",
              "          const docLinkHtml = 'Like what you see? Visit the ' +\n",
              "            '<a target=\"_blank\" href=https://colab.research.google.com/notebooks/data_table.ipynb>data table notebook</a>'\n",
              "            + ' to learn more about interactive tables.';\n",
              "          element.innerHTML = '';\n",
              "          dataTable['output_type'] = 'display_data';\n",
              "          await google.colab.output.renderOutput(dataTable, element);\n",
              "          const docLink = document.createElement('div');\n",
              "          docLink.innerHTML = docLinkHtml;\n",
              "          element.appendChild(docLink);\n",
              "        }\n",
              "      </script>\n",
              "    </div>\n",
              "  </div>\n",
              "  "
            ]
          },
          "metadata": {}
        },
        {
          "output_type": "stream",
          "name": "stdout",
          "text": [
            "Month\n",
            "1     29\n",
            "2     20\n",
            "3     27\n",
            "4     30\n",
            "5     34\n",
            "6     51\n",
            "7     37\n",
            "8     57\n",
            "9     25\n",
            "10    29\n",
            "11    25\n",
            "12    55\n",
            "dtype: int64\n"
          ]
        },
        {
          "output_type": "display_data",
          "data": {
            "text/plain": [
              "<Figure size 432x288 with 1 Axes>"
            ],
            "image/png": "[encoded data removed]"
          },
          "metadata": {
            "needs_background": "light"
          }
        }
      ]
    },
    {
      "cell_type": "markdown",
      "source": [
        "**8. Considerando a receita líquida mensal de vendas em 2019. Quais os valores de: média, mediana e desvio padrão desses valores?**"
      ],
      "metadata": {
        "id": "93aK3OKXbKTt"
      }
    },
    {
      "cell_type": "code",
      "source": [
        "df_merge_receita = df_merge_prod.drop([\"ID_x\", \"ID_y\", \"ClientID\", \"ProductID\", \"Size\", \"Name\"], axis=1)\n",
        "\n",
        "df_merge_receita[\"Year\"] = pd.DatetimeIndex(df_merge_receita[\"Date\"]).year\n",
        "df_merge_receita[\"Month\"] = pd.DatetimeIndex(df_merge_receita[\"Date\"]).month  \n",
        "df_merge_receita = df_merge_receita[df_merge_receita.Year.eq(2019)]\n",
        "df_merge_receita[\"receita\"] = df_merge_receita.UnitPrice * df_merge_receita.Quantity\n",
        "df_merge_receita_medidas = df_merge_receita.groupby([\"Month\"])[[\"receita\"]].agg('sum').reset_index() \n",
        "\n",
        "#df_merge_receita.describe()\n",
        "print(\"R${:,.2f}\".format(df_merge_receita_medidas[\"receita\"].mean()), \"R${:,.2f}\".format(df_merge_receita_medidas[\"receita\"].median()), \"R${:,.2f}\".format(df_merge_receita_medidas[\"receita\"].std()))"
      ],
      "metadata": {
        "colab": {
          "base_uri": "https://localhost:8080/"
        },
        "id": "RGd9RMNgj7Op",
        "outputId": "11eb7110-a9af-42e4-f23a-f44bf231b869"
      },
      "execution_count": 23,
      "outputs": [
        {
          "output_type": "stream",
          "name": "stdout",
          "text": [
            "R$324,240.93 R$285,989.90 R$105,678.21\n"
          ]
        }
      ]
    },
    {
      "cell_type": "markdown",
      "source": [
        "**9. Ainda considerando os dados de receita líquida de vendas em 2019, seu time deve focar esforços em uma das lojas para criar análises mais profundas e a primeira versão do modelo preditivo. Qual destas lojas você escolheria para prosseguir com o projeto? (1 ponto)**  \n"
      ],
      "metadata": {
        "id": "wFbGwhiubTGz"
      }
    },
    {
      "cell_type": "code",
      "source": [
        "df_merge_loja = df_merge_receita.merge(df_sheet_4, left_on=\"StoreID\", right_on=\"ID\")\n",
        "df_merge_loja.sort_values(by=\"Name\", ascending=False).value_counts().head(1)"
      ],
      "metadata": {
        "colab": {
          "base_uri": "https://localhost:8080/"
        },
        "id": "T5f4_KYM7R_T",
        "outputId": "46335376-39ed-447b-a559-719e1b5622d5"
      },
      "execution_count": 48,
      "outputs": [
        {
          "output_type": "execute_result",
          "data": {
            "text/plain": [
              "Discount  UnitPrice  Quantity  StoreID  Date        Year  Month  receita  ID   Name           State\n",
              "0.08      201.6      1.0       1.0      2019-06-08  2019  6      201.6    1.0  Florianópolis  SC       6\n",
              "dtype: int64"
            ]
          },
          "metadata": {},
          "execution_count": 48
        }
      ]
    },
    {
      "cell_type": "markdown",
      "source": [
        "**10. Suponha que após realizar todas as etapas necessárias, seu time chegou em alguns modelos de forecasting para o volume mensal de vendas. Foram conduzidos alguns experimentos e os resultados de diferentes valores de erro percentual médio (MAPE) são apresentados abaixo. Dos resultados abaixo, qual o mais razoável que você escolheria para colocar o modelo em produção no ambiente do cliente?**   \n"
      ],
      "metadata": {
        "id": "JKQv5YjvbXxO"
      }
    },
    {
      "cell_type": "code",
      "source": [
        ""
      ],
      "metadata": {
        "id": "8ZmWb_PCE2OL"
      },
      "execution_count": null,
      "outputs": []
    }
  ]
}